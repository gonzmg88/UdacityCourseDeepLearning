{
 "cells": [
  {
   "cell_type": "markdown",
   "metadata": {
    "colab_type": "text",
    "id": "kR-4eNdK6lYS"
   },
   "source": [
    "Deep Learning\n",
    "=============\n",
    "\n",
    "Assignment 3\n",
    "------------\n",
    "\n",
    "Previously in `2_fullyconnected.ipynb`, you trained a logistic regression and a neural network model.\n",
    "\n",
    "The goal of this assignment is to explore regularization techniques."
   ]
  },
  {
   "cell_type": "code",
   "execution_count": 2,
   "metadata": {
    "cellView": "both",
    "colab": {
     "autoexec": {
      "startup": false,
      "wait_interval": 0
     }
    },
    "colab_type": "code",
    "collapsed": false,
    "id": "JLpLa8Jt7Vu4"
   },
   "outputs": [],
   "source": [
    "# These are all the modules we'll be using later. Make sure you can import them\n",
    "# before proceeding further.\n",
    "from __future__ import print_function\n",
    "import numpy as np\n",
    "import tensorflow as tf\n",
    "from six.moves import cPickle as pickle"
   ]
  },
  {
   "cell_type": "markdown",
   "metadata": {
    "colab_type": "text",
    "id": "1HrCK6e17WzV"
   },
   "source": [
    "First reload the data we generated in _notmist.ipynb_."
   ]
  },
  {
   "cell_type": "code",
   "execution_count": 3,
   "metadata": {
    "cellView": "both",
    "colab": {
     "autoexec": {
      "startup": false,
      "wait_interval": 0
     },
     "output_extras": [
      {
       "item_id": 1
      }
     ]
    },
    "colab_type": "code",
    "collapsed": false,
    "executionInfo": {
     "elapsed": 11777,
     "status": "ok",
     "timestamp": 1449849322348,
     "user": {
      "color": "",
      "displayName": "",
      "isAnonymous": false,
      "isMe": true,
      "permissionId": "",
      "photoUrl": "",
      "sessionId": "0",
      "userId": ""
     },
     "user_tz": 480
    },
    "id": "y3-cj1bpmuxc",
    "outputId": "e03576f1-ebbe-4838-c388-f1777bcc9873"
   },
   "outputs": [
    {
     "name": "stdout",
     "output_type": "stream",
     "text": [
      "Training set (190000, 28, 28) (190000,)\n",
      "Validation set (10000, 28, 28) (10000,)\n",
      "Test set (10000, 28, 28) (10000,)\n"
     ]
    }
   ],
   "source": [
    "pickle_file = 'notMNIST.pickle'\n",
    "\n",
    "with open(pickle_file, 'rb') as f:\n",
    "  save = pickle.load(f)\n",
    "  train_dataset = save['train_dataset']\n",
    "  train_labels = save['train_labels']\n",
    "  valid_dataset = save['valid_dataset']\n",
    "  valid_labels = save['valid_labels']\n",
    "  test_dataset = save['test_dataset']\n",
    "  test_labels = save['test_labels']\n",
    "  del save  # hint to help gc free up memory\n",
    "  print('Training set', train_dataset.shape, train_labels.shape)\n",
    "  print('Validation set', valid_dataset.shape, valid_labels.shape)\n",
    "  print('Test set', test_dataset.shape, test_labels.shape)"
   ]
  },
  {
   "cell_type": "markdown",
   "metadata": {
    "colab_type": "text",
    "id": "L7aHrm6nGDMB"
   },
   "source": [
    "Reformat into a shape that's more adapted to the models we're going to train:\n",
    "- data as a flat matrix,\n",
    "- labels as float 1-hot encodings."
   ]
  },
  {
   "cell_type": "code",
   "execution_count": 4,
   "metadata": {
    "cellView": "both",
    "colab": {
     "autoexec": {
      "startup": false,
      "wait_interval": 0
     },
     "output_extras": [
      {
       "item_id": 1
      }
     ]
    },
    "colab_type": "code",
    "collapsed": false,
    "executionInfo": {
     "elapsed": 11728,
     "status": "ok",
     "timestamp": 1449849322356,
     "user": {
      "color": "",
      "displayName": "",
      "isAnonymous": false,
      "isMe": true,
      "permissionId": "",
      "photoUrl": "",
      "sessionId": "0",
      "userId": ""
     },
     "user_tz": 480
    },
    "id": "IRSyYiIIGIzS",
    "outputId": "3f8996ee-3574-4f44-c953-5c8a04636582"
   },
   "outputs": [
    {
     "name": "stdout",
     "output_type": "stream",
     "text": [
      "Training set (190000, 784) (190000, 10)\n",
      "Validation set (10000, 784) (10000, 10)\n",
      "Test set (10000, 784) (10000, 10)\n"
     ]
    }
   ],
   "source": [
    "image_size = 28\n",
    "num_labels = 10\n",
    "\n",
    "def reformat(dataset, labels):\n",
    "  dataset = dataset.reshape((-1, image_size * image_size)).astype(np.float32)\n",
    "  # Map 2 to [0.0, 1.0, 0.0 ...], 3 to [0.0, 0.0, 1.0 ...]\n",
    "  labels = (np.arange(num_labels) == labels[:,None]).astype(np.float32)\n",
    "  return dataset, labels\n",
    "train_dataset, train_labels = reformat(train_dataset, train_labels)\n",
    "valid_dataset, valid_labels = reformat(valid_dataset, valid_labels)\n",
    "test_dataset, test_labels = reformat(test_dataset, test_labels)\n",
    "print('Training set', train_dataset.shape, train_labels.shape)\n",
    "print('Validation set', valid_dataset.shape, valid_labels.shape)\n",
    "print('Test set', test_dataset.shape, test_labels.shape)"
   ]
  },
  {
   "cell_type": "code",
   "execution_count": 5,
   "metadata": {
    "cellView": "both",
    "colab": {
     "autoexec": {
      "startup": false,
      "wait_interval": 0
     }
    },
    "colab_type": "code",
    "collapsed": true,
    "id": "RajPLaL_ZW6w"
   },
   "outputs": [],
   "source": [
    "def accuracy(predictions, labels):\n",
    "  return (100.0 * np.sum(np.argmax(predictions, 1) == np.argmax(labels, 1))\n",
    "          / predictions.shape[0])"
   ]
  },
  {
   "cell_type": "markdown",
   "metadata": {
    "colab_type": "text",
    "id": "sgLbUAQ1CW-1"
   },
   "source": [
    "---\n",
    "Problem 1\n",
    "---------\n",
    "\n",
    "Introduce and tune L2 regularization for both logistic and neural network models. Remember that L2 amounts to adding a penalty on the norm of the weights to the loss. In TensorFlow, you can compute the L2 loss for a tensor `t` using `nn.l2_loss(t)`. The right amount of regularization should improve your validation / test accuracy.\n",
    "\n",
    "---"
   ]
  },
  {
   "cell_type": "code",
   "execution_count": 30,
   "metadata": {
    "collapsed": false
   },
   "outputs": [],
   "source": [
    "batch_size = 128\n",
    "hidden_nodes_layer_1 = 1024\n",
    "learning_rate = .2\n",
    "\n",
    "graph = tf.Graph()\n",
    "with graph.as_default():\n",
    "\n",
    "  # Input data. For the training data, we use a placeholder that will be fed\n",
    "  # at run time with a training minibatch.\n",
    "  tf_train_dataset = tf.placeholder(tf.float32,\n",
    "                                    shape=(batch_size, image_size * image_size))\n",
    "  tf_train_labels = tf.placeholder(tf.float32, shape=(batch_size, num_labels))\n",
    "  tf_regularization_ammount = tf.placeholder(tf.float32)\n",
    "  tf_valid_dataset = tf.constant(valid_dataset)\n",
    "  tf_test_dataset = tf.constant(test_dataset)\n",
    "  \n",
    "  # Variables.\n",
    "  weights_layer_1 = tf.Variable(\n",
    "    tf.truncated_normal([image_size * image_size, hidden_nodes_layer_1]))\n",
    "  biases_layer_1 = tf.Variable(tf.zeros([hidden_nodes_layer_1]))\n",
    "    \n",
    "  \n",
    "  weights_layer_2 = tf.Variable(\n",
    "    tf.truncated_normal([hidden_nodes_layer_1, num_labels]))\n",
    "  biases_layer_2 = tf.Variable(tf.zeros([num_labels]))\n",
    "  \n",
    "  # Training computation.\n",
    "  ouput_1 = tf.nn.relu(tf.matmul(tf_train_dataset, weights_layer_1)) + biases_layer_1\n",
    "  logits = tf.matmul(ouput_1,weights_layer_2)+biases_layer_2\n",
    "  loss = tf.reduce_mean(\n",
    "    tf.nn.softmax_cross_entropy_with_logits(\n",
    "            logits, tf_train_labels))+ tf_regularization_ammount*tf.nn.l2_loss(weights_layer_1)+ tf_regularization_ammount*tf.nn.l2_loss(weights_layer_2)\n",
    "  \n",
    "  # Optimizer.\n",
    "  optimizer = tf.train.GradientDescentOptimizer(learning_rate).minimize(loss)\n",
    "  # Predictions for the training, validation, and test data.\n",
    "  train_prediction = tf.nn.softmax(logits)\n",
    "  valid_prediction = tf.nn.softmax(\n",
    "    tf.matmul(tf.nn.relu(tf.matmul(tf_valid_dataset, weights_layer_1) + biases_layer_1),weights_layer_2)+biases_layer_2)\n",
    "\n",
    "  test_prediction = tf.nn.softmax(\n",
    "    tf.matmul(tf.nn.relu(tf.matmul(tf_test_dataset, weights_layer_1) + biases_layer_1),weights_layer_2)+biases_layer_2)"
   ]
  },
  {
   "cell_type": "code",
   "execution_count": 31,
   "metadata": {
    "collapsed": false
   },
   "outputs": [
    {
     "name": "stdout",
     "output_type": "stream",
     "text": [
      "Initialized\n",
      "Minibatch loss at step 0: 927.100586\n",
      "Minibatch accuracy: 4.7%\n",
      "Validation accuracy: 38.7%\n",
      "Minibatch loss at step 100: 605.098694\n",
      "Minibatch accuracy: 78.9%\n",
      "Validation accuracy: 79.5%\n",
      "Minibatch loss at step 200: 576.338562\n",
      "Minibatch accuracy: 71.9%\n",
      "Validation accuracy: 74.7%\n",
      "Minibatch loss at step 300: 511.916321\n",
      "Minibatch accuracy: 77.3%\n",
      "Validation accuracy: 71.7%\n",
      "Minibatch loss at step 400: 479.088013\n",
      "Minibatch accuracy: 77.3%\n",
      "Validation accuracy: 80.1%\n",
      "Minibatch loss at step 500: 431.654388\n",
      "Minibatch accuracy: 84.4%\n",
      "Validation accuracy: 82.4%\n",
      "Minibatch loss at step 600: 399.560272\n",
      "Minibatch accuracy: 78.9%\n",
      "Validation accuracy: 81.7%\n",
      "Minibatch loss at step 700: 360.971191\n",
      "Minibatch accuracy: 85.2%\n",
      "Validation accuracy: 81.2%\n",
      "Minibatch loss at step 800: 336.139618\n",
      "Minibatch accuracy: 81.2%\n",
      "Validation accuracy: 78.3%\n",
      "Minibatch loss at step 900: 309.565613\n",
      "Minibatch accuracy: 76.6%\n",
      "Validation accuracy: 75.3%\n",
      "Minibatch loss at step 1000: 281.217407\n",
      "Minibatch accuracy: 86.7%\n",
      "Validation accuracy: 82.8%\n",
      "Test accuracy: 89.7%\n"
     ]
    }
   ],
   "source": [
    "num_steps = 1001\n",
    "regularization_amount = 0.002\n",
    "\n",
    "with tf.Session(graph=graph) as session:\n",
    "  tf.initialize_all_variables().run()\n",
    "  print(\"Initialized\")\n",
    "  for step in range(num_steps):\n",
    "    # Pick an offset within the training data, which has been randomized.\n",
    "    # Note: we could use better randomization across epochs.\n",
    "    indexes = np.random.choice(train_labels.shape[0], batch_size)\n",
    "    # Generate a minibatch.\n",
    "    batch_data = train_dataset[indexes, :]\n",
    "    batch_labels = train_labels[indexes, :]\n",
    "    # Prepare a dictionary telling the session where to feed the minibatch.\n",
    "    # The key of the dictionary is the placeholder node of the graph to be fed,\n",
    "    # and the value is the numpy array to feed to it.\n",
    "    feed_dict = {tf_train_dataset : batch_data, tf_train_labels : batch_labels,tf_regularization_ammount : regularization_amount}\n",
    "    _, l, predictions = session.run(\n",
    "      [optimizer, loss, train_prediction], feed_dict=feed_dict)\n",
    "    if (step % 100 == 0):\n",
    "      print(\"Minibatch loss at step %d: %f\" % (step, l))\n",
    "      print(\"Minibatch accuracy: %.1f%%\" % accuracy(predictions, batch_labels))\n",
    "      print(\"Validation accuracy: %.1f%%\" % accuracy(\n",
    "        valid_prediction.eval(), valid_labels))\n",
    "  print(\"Test accuracy: %.1f%%\" % accuracy(test_prediction.eval(), test_labels))"
   ]
  },
  {
   "cell_type": "markdown",
   "metadata": {
    "colab_type": "text",
    "id": "na8xX2yHZzNF"
   },
   "source": [
    "---\n",
    "Problem 2\n",
    "---------\n",
    "Let's demonstrate an extreme case of overfitting. Restrict your training data to just a few batches. What happens?\n",
    "\n",
    "---"
   ]
  },
  {
   "cell_type": "markdown",
   "metadata": {},
   "source": [
    "* If we keep the same ammount of regularization (.002) test performance decreases to ~77%.\n",
    "* If we increase the ammount of regularization (.1) performance seems to be better ~84%\n",
    "\n",
    " * We also see that training data accuracy reach 100% with small regularization; however validation accuracy keeps smaller. The NN is overfitting.\n",
    "\n",
    "With greater regularization value training and validation accuracy tend to be more similar."
   ]
  },
  {
   "cell_type": "code",
   "execution_count": 34,
   "metadata": {
    "collapsed": false
   },
   "outputs": [
    {
     "name": "stdout",
     "output_type": "stream",
     "text": [
      "Training set truncated: (1000, 784) (1000, 10)\n",
      "Initialized\n",
      "Minibatch loss at step 0: 31805.929688\n",
      "Minibatch accuracy: 10.2%\n",
      "Validation accuracy: 33.0%\n",
      "Minibatch loss at step 100: 553.147461\n",
      "Minibatch accuracy: 99.2%\n",
      "Validation accuracy: 77.0%\n",
      "Minibatch loss at step 200: 11.012300\n",
      "Minibatch accuracy: 91.4%\n",
      "Validation accuracy: 78.1%\n",
      "Minibatch loss at step 300: 1.620971\n",
      "Minibatch accuracy: 79.7%\n",
      "Validation accuracy: 77.9%\n",
      "Minibatch loss at step 400: 1.368852\n",
      "Minibatch accuracy: 82.8%\n",
      "Validation accuracy: 78.3%\n",
      "Minibatch loss at step 500: 1.355746\n",
      "Minibatch accuracy: 82.8%\n",
      "Validation accuracy: 77.5%\n",
      "Minibatch loss at step 600: 1.373718\n",
      "Minibatch accuracy: 80.5%\n",
      "Validation accuracy: 78.0%\n",
      "Minibatch loss at step 700: 1.342601\n",
      "Minibatch accuracy: 83.6%\n",
      "Validation accuracy: 78.5%\n",
      "Minibatch loss at step 800: 1.305288\n",
      "Minibatch accuracy: 84.4%\n",
      "Validation accuracy: 78.6%\n",
      "Minibatch loss at step 900: 1.364587\n",
      "Minibatch accuracy: 82.0%\n",
      "Validation accuracy: 77.2%\n",
      "Minibatch loss at step 1000: 1.364549\n",
      "Minibatch accuracy: 85.2%\n",
      "Validation accuracy: 76.9%\n",
      "Test accuracy: 84.2%\n"
     ]
    }
   ],
   "source": [
    "batch_size = 128\n",
    "hidden_nodes_layer_1 = 1024\n",
    "learning_rate = .2\n",
    "num_steps = 1001\n",
    "regularization_amount = 0.1\n",
    "\n",
    "size_truncated_dataset = 1000\n",
    "indexes = np.random.choice(train_labels.shape[0],size_truncated_dataset)\n",
    "train_dataset_truncated = train_dataset[indexes, :]\n",
    "train_labels_truncated = train_labels[indexes, :]\n",
    "print('Training set truncated:', train_dataset_truncated.shape, train_labels_truncated.shape)\n",
    "\n",
    "graph = tf.Graph()\n",
    "with graph.as_default():\n",
    "\n",
    "  # Input data. For the training data, we use a placeholder that will be fed\n",
    "  # at run time with a training minibatch.\n",
    "  tf_train_dataset = tf.placeholder(tf.float32,\n",
    "                                    shape=(batch_size, image_size * image_size))\n",
    "  tf_train_labels = tf.placeholder(tf.float32, shape=(batch_size, num_labels))\n",
    "  tf_regularization_ammount = tf.placeholder(tf.float32)\n",
    "  tf_valid_dataset = tf.constant(valid_dataset)\n",
    "  tf_test_dataset = tf.constant(test_dataset)\n",
    "  \n",
    "  # Variables.\n",
    "  weights_layer_1 = tf.Variable(\n",
    "    tf.truncated_normal([image_size * image_size, hidden_nodes_layer_1]))\n",
    "  biases_layer_1 = tf.Variable(tf.zeros([hidden_nodes_layer_1]))\n",
    "    \n",
    "  \n",
    "  weights_layer_2 = tf.Variable(\n",
    "    tf.truncated_normal([hidden_nodes_layer_1, num_labels]))\n",
    "  biases_layer_2 = tf.Variable(tf.zeros([num_labels]))\n",
    "  \n",
    "  # Training computation.\n",
    "  ouput_1 = tf.nn.relu(tf.matmul(tf_train_dataset, weights_layer_1)) + biases_layer_1\n",
    "  logits = tf.matmul(ouput_1,weights_layer_2)+biases_layer_2\n",
    "  loss = tf.reduce_mean(\n",
    "    tf.nn.softmax_cross_entropy_with_logits(\n",
    "            logits, tf_train_labels))+ tf_regularization_ammount*tf.nn.l2_loss(weights_layer_1)+ tf_regularization_ammount*tf.nn.l2_loss(weights_layer_2)\n",
    "  \n",
    "  # Optimizer.\n",
    "  optimizer = tf.train.GradientDescentOptimizer(learning_rate).minimize(loss)\n",
    "  # Predictions for the training, validation, and test data.\n",
    "  train_prediction = tf.nn.softmax(logits)\n",
    "  valid_prediction = tf.nn.softmax(\n",
    "    tf.matmul(tf.nn.relu(tf.matmul(tf_valid_dataset, weights_layer_1) + biases_layer_1),weights_layer_2)+biases_layer_2)\n",
    "\n",
    "  test_prediction = tf.nn.softmax(\n",
    "    tf.matmul(tf.nn.relu(tf.matmul(tf_test_dataset, weights_layer_1) + biases_layer_1),weights_layer_2)+biases_layer_2)\n",
    "\n",
    "\n",
    "\n",
    "with tf.Session(graph=graph) as session:\n",
    "  tf.initialize_all_variables().run()\n",
    "  print(\"Initialized\")\n",
    "  for step in range(num_steps):\n",
    "    # Pick an offset within the training data, which has been randomized.\n",
    "    # Note: we could use better randomization across epochs.\n",
    "    indexes = np.random.choice(train_labels_truncated.shape[0], batch_size)\n",
    "    # Generate a minibatch.\n",
    "    batch_data = train_dataset_truncated[indexes, :]\n",
    "    batch_labels = train_labels_truncated[indexes, :]\n",
    "    # Prepare a dictionary telling the session where to feed the minibatch.\n",
    "    # The key of the dictionary is the placeholder node of the graph to be fed,\n",
    "    # and the value is the numpy array to feed to it.\n",
    "    feed_dict = {tf_train_dataset : batch_data, tf_train_labels : batch_labels,tf_regularization_ammount : regularization_amount}\n",
    "    _, l, predictions = session.run(\n",
    "      [optimizer, loss, train_prediction], feed_dict=feed_dict)\n",
    "    if (step % 100 == 0):\n",
    "      print(\"Minibatch loss at step %d: %f\" % (step, l))\n",
    "      print(\"Minibatch accuracy: %.1f%%\" % accuracy(predictions, batch_labels))\n",
    "      print(\"Validation accuracy: %.1f%%\" % accuracy(\n",
    "        valid_prediction.eval(), valid_labels))\n",
    "  print(\"Test accuracy: %.1f%%\" % accuracy(test_prediction.eval(), test_labels))"
   ]
  },
  {
   "cell_type": "markdown",
   "metadata": {
    "colab_type": "text",
    "id": "ww3SCBUdlkRc"
   },
   "source": [
    "---\n",
    "Problem 3\n",
    "---------\n",
    "Introduce Dropout on the hidden layer of the neural network. Remember: Dropout should only be introduced during training, not evaluation, otherwise your evaluation results would be stochastic as well. TensorFlow provides `nn.dropout()` for that, but you have to make sure it's only inserted during training.\n",
    "\n",
    "What happens to our extreme overfitting case?\n",
    "\n",
    "---"
   ]
  },
  {
   "cell_type": "markdown",
   "metadata": {},
   "source": [
    "With `keep_prob_dropout` probability ~10% we significantly improve the accuracy: (87.6%).\n",
    "\n",
    "We also see similar validation-training error thus we conclude overfitting is not taking place.\n",
    "\n",
    "It is also curious that validation error accuracy reaches ~ 80% around step 300: whereas training accuracy is smaller. I think this is due to that training prediction is only taking into account the 10% active hidden neurons at this step; whereas valid prediction takes into account all hidden units."
   ]
  },
  {
   "cell_type": "code",
   "execution_count": 54,
   "metadata": {
    "collapsed": false
   },
   "outputs": [
    {
     "name": "stdout",
     "output_type": "stream",
     "text": [
      "Training set truncated: (1000, 784) (1000, 10)\n",
      "Initialized\n",
      "Minibatch loss at step 0: 1223.686401\n",
      "Minibatch accuracy: 12.5%\n",
      "Validation accuracy: 11.4%\n",
      "Minibatch loss at step 100: 193.443100\n",
      "Minibatch accuracy: 56.2%\n",
      "Validation accuracy: 77.6%\n",
      "Minibatch loss at step 200: 150.274567\n",
      "Minibatch accuracy: 60.9%\n",
      "Validation accuracy: 79.0%\n",
      "Minibatch loss at step 300: 101.042603\n",
      "Minibatch accuracy: 62.5%\n",
      "Validation accuracy: 79.7%\n",
      "Minibatch loss at step 400: 82.962830\n",
      "Minibatch accuracy: 76.6%\n",
      "Validation accuracy: 80.3%\n",
      "Minibatch loss at step 500: 65.724686\n",
      "Minibatch accuracy: 70.3%\n",
      "Validation accuracy: 80.4%\n",
      "Minibatch loss at step 600: 50.038368\n",
      "Minibatch accuracy: 74.2%\n",
      "Validation accuracy: 80.4%\n",
      "Minibatch loss at step 700: 42.697342\n",
      "Minibatch accuracy: 77.3%\n",
      "Validation accuracy: 80.6%\n",
      "Minibatch loss at step 800: 33.027416\n",
      "Minibatch accuracy: 75.8%\n",
      "Validation accuracy: 80.8%\n",
      "Minibatch loss at step 900: 44.344795\n",
      "Minibatch accuracy: 79.7%\n",
      "Validation accuracy: 80.7%\n",
      "Minibatch loss at step 1000: 32.209206\n",
      "Minibatch accuracy: 77.3%\n",
      "Validation accuracy: 80.7%\n",
      "Test accuracy: 87.2%\n"
     ]
    }
   ],
   "source": [
    "batch_size = 128\n",
    "hidden_nodes_layer_1 = 1024\n",
    "learning_rate = .02\n",
    "num_steps = 1001\n",
    "keep_prob_dropout = 0.1\n",
    "size_truncated_dataset = 1000\n",
    "\n",
    "indexes = np.random.choice(train_labels.shape[0],size_truncated_dataset)\n",
    "train_dataset_truncated = train_dataset[indexes, :]\n",
    "train_labels_truncated = train_labels[indexes, :]\n",
    "\n",
    "print('Training set truncated:', train_dataset_truncated.shape, train_labels_truncated.shape)\n",
    "\n",
    "graph = tf.Graph()\n",
    "with graph.as_default():\n",
    "\n",
    "  # Input data. For the training data, we use a placeholder that will be fed\n",
    "  # at run time with a training minibatch.\n",
    "  tf_train_dataset = tf.placeholder(tf.float32,\n",
    "                                    shape=(batch_size, image_size * image_size))\n",
    "  tf_train_labels = tf.placeholder(tf.float32, shape=(batch_size, num_labels))\n",
    "  tf_regularization_ammount = tf.placeholder(tf.float32)\n",
    "  tf_valid_dataset = tf.constant(valid_dataset)\n",
    "  tf_test_dataset = tf.constant(test_dataset)\n",
    "  \n",
    "  # Variables.\n",
    "  weights_layer_1 = tf.Variable(\n",
    "    tf.truncated_normal([image_size * image_size, hidden_nodes_layer_1]))\n",
    "  biases_layer_1 = tf.Variable(tf.zeros([hidden_nodes_layer_1]))\n",
    "    \n",
    "  \n",
    "  weights_layer_2 = tf.Variable(\n",
    "    tf.truncated_normal([hidden_nodes_layer_1, num_labels]))\n",
    "  biases_layer_2 = tf.Variable(tf.zeros([num_labels]))\n",
    "  \n",
    "  # Training computation.\n",
    "  ouput_1 = tf.nn.relu(tf.matmul(tf_train_dataset, weights_layer_1)) + biases_layer_1\n",
    "  tf_keep_prob_dropout = tf.placeholder(\"float\")\n",
    "  ouput_1_drop = tf.nn.dropout(ouput_1, tf_keep_prob_dropout)\n",
    "  \n",
    "  logits = tf.matmul(ouput_1_drop,weights_layer_2)+biases_layer_2\n",
    "  loss = tf.reduce_mean(\n",
    "    tf.nn.softmax_cross_entropy_with_logits(\n",
    "            logits, tf_train_labels))\n",
    "  \n",
    "  # Optimizer.\n",
    "  optimizer = tf.train.GradientDescentOptimizer(learning_rate).minimize(loss)\n",
    "  # Predictions for the training, validation, and test data.\n",
    "  train_prediction = tf.nn.softmax(logits)\n",
    "  valid_prediction = tf.nn.softmax(\n",
    "    tf.matmul(tf.nn.relu(tf.matmul(tf_valid_dataset, weights_layer_1) + biases_layer_1),weights_layer_2)+biases_layer_2)\n",
    "\n",
    "  test_prediction = tf.nn.softmax(\n",
    "    tf.matmul(tf.nn.relu(tf.matmul(tf_test_dataset, weights_layer_1) + biases_layer_1),weights_layer_2)+biases_layer_2)\n",
    "\n",
    "\n",
    "with tf.Session(graph=graph) as session:\n",
    "  tf.initialize_all_variables().run()\n",
    "  print(\"Initialized\")\n",
    "  for step in range(num_steps):\n",
    "    # Pick an offset within the training data, which has been randomized.\n",
    "    # Note: we could use better randomization across epochs.\n",
    "    indexes = np.random.choice(train_labels_truncated.shape[0], batch_size)\n",
    "    # Generate a minibatch.\n",
    "    batch_data = train_dataset_truncated[indexes, :]\n",
    "    batch_labels = train_labels_truncated[indexes, :]\n",
    "    # Prepare a dictionary telling the session where to feed the minibatch.\n",
    "    # The key of the dictionary is the placeholder node of the graph to be fed,\n",
    "    # and the value is the numpy array to feed to it.\n",
    "    feed_dict = {tf_train_dataset : batch_data, tf_train_labels : batch_labels,tf_keep_prob_dropout : keep_prob_dropout}\n",
    "    _, l, predictions = session.run(\n",
    "      [optimizer, loss, train_prediction], feed_dict=feed_dict)\n",
    "    if (step % 100 == 0):\n",
    "      print(\"Minibatch loss at step %d: %f\" % (step, l))\n",
    "      print(\"Minibatch accuracy: %.1f%%\" % accuracy(predictions, batch_labels))\n",
    "      print(\"Validation accuracy: %.1f%%\" % accuracy(\n",
    "        valid_prediction.eval(), valid_labels))\n",
    "  print(\"Test accuracy: %.1f%%\" % accuracy(test_prediction.eval(), test_labels))"
   ]
  },
  {
   "cell_type": "markdown",
   "metadata": {
    "colab_type": "text",
    "id": "-b1hTz3VWZjw"
   },
   "source": [
    "---\n",
    "Problem 4\n",
    "---------\n",
    "\n",
    "Try to get the best performance you can using a multi-layer model! The best reported test accuracy using a deep network is [97.1%](http://yaroslavvb.blogspot.com/2011/09/notmnist-dataset.html?showComment=1391023266211#c8758720086795711595).\n",
    "\n",
    "One avenue you can explore is to add multiple layers.\n",
    "\n",
    "Another one is to use learning rate decay:\n",
    "\n",
    "    global_step = tf.Variable(0)  # count the number of steps taken.\n",
    "    learning_rate = tf.train.exponential_decay(0.5, global_step, ...)\n",
    "    optimizer = tf.train.GradientDescentOptimizer(learning_rate).minimize(loss, global_step=global_step)\n",
    " \n",
    " ---\n"
   ]
  },
  {
   "cell_type": "code",
   "execution_count": 23,
   "metadata": {
    "collapsed": false
   },
   "outputs": [
    {
     "name": "stdout",
     "output_type": "stream",
     "text": [
      "Training set : (190000, 784) (190000, 10)\n"
     ]
    }
   ],
   "source": [
    "batch_size = 128\n",
    "hidden_nodes_layer_1 = 1024\n",
    "print('Training set :', train_dataset.shape, train_labels.shape)\n",
    "graph = tf.Graph()\n",
    "with graph.as_default():\n",
    "\n",
    "  # Input data. For the training data, we use a placeholder that will be fed\n",
    "  # at run time with a training minibatch.\n",
    "  tf_train_dataset = tf.placeholder(tf.float32,\n",
    "                                    shape=(batch_size, image_size * image_size))\n",
    "  tf_train_labels = tf.placeholder(tf.float32, shape=(batch_size, num_labels))\n",
    "  tf_valid_dataset = tf.constant(valid_dataset)\n",
    "  tf_test_dataset = tf.constant(test_dataset)\n",
    "  \n",
    "  # Variables.\n",
    "  weights_layer_1 = tf.Variable(\n",
    "    tf.truncated_normal([image_size * image_size, hidden_nodes_layer_1]))\n",
    "  biases_layer_1 = tf.Variable(tf.zeros([hidden_nodes_layer_1]))\n",
    "    \n",
    "  \n",
    "  weights_layer_2 = tf.Variable(\n",
    "    tf.truncated_normal([hidden_nodes_layer_1, num_labels]))\n",
    "  biases_layer_2 = tf.Variable(tf.zeros([num_labels]))\n",
    "  \n",
    "  # Training computation.\n",
    "  ouput_1 = tf.nn.relu(tf.matmul(tf_train_dataset, weights_layer_1)) + biases_layer_1\n",
    "  tf_keep_prob_dropout = tf.placeholder(\"float\")\n",
    "  ouput_1_drop = tf.nn.dropout(ouput_1, tf_keep_prob_dropout)\n",
    "\n",
    "  logits = tf.matmul(ouput_1_drop,weights_layer_2)+biases_layer_2\n",
    "  loss = tf.reduce_mean(\n",
    "    tf.nn.softmax_cross_entropy_with_logits(\n",
    "            logits, tf_train_labels))\n",
    "  \n",
    "  # Optimizer.\n",
    "  tf_learning_rate = tf.placeholder(\"float\")\n",
    "  optimizer = tf.train.GradientDescentOptimizer(tf_learning_rate).minimize(loss)\n",
    "  # Predictions for the training, validation, and test data.\n",
    "  train_prediction = tf.nn.softmax(logits)\n",
    "  valid_prediction = tf.nn.softmax(\n",
    "    tf.matmul(tf.nn.relu(tf.matmul(tf_valid_dataset, weights_layer_1) + biases_layer_1),weights_layer_2)+biases_layer_2)\n",
    "\n",
    "  test_prediction = tf.nn.softmax(\n",
    "    tf.matmul(tf.nn.relu(tf.matmul(tf_test_dataset, weights_layer_1) + biases_layer_1),weights_layer_2)+biases_layer_2)\n"
   ]
  },
  {
   "cell_type": "code",
   "execution_count": 24,
   "metadata": {
    "collapsed": false
   },
   "outputs": [
    {
     "name": "stdout",
     "output_type": "stream",
     "text": [
      "Initialized\n",
      "Minibatch loss at step 0: 410.861298\n",
      "Minibatch accuracy: 12.5%\n",
      "Validation accuracy: 29.4%\n",
      "Minibatch loss at step 100: 72.365723\n",
      "Minibatch accuracy: 69.5%\n",
      "Validation accuracy: 80.5%\n",
      "Minibatch loss at step 200: 52.781815\n",
      "Reducing learning rate to: 0.2500%\n",
      "Minibatch accuracy: 76.6%\n",
      "Validation accuracy: 74.5%\n",
      "Minibatch loss at step 300: 26.808149\n",
      "Minibatch accuracy: 76.6%\n",
      "Validation accuracy: 82.0%\n",
      "Minibatch loss at step 400: 23.338087\n",
      "Minibatch accuracy: 81.2%\n",
      "Validation accuracy: 82.5%\n",
      "Minibatch loss at step 500: 20.922606\n",
      "Minibatch accuracy: 76.6%\n",
      "Validation accuracy: 83.2%\n",
      "Minibatch loss at step 600: 19.986942\n",
      "Reducing learning rate to: 0.1250%\n",
      "Minibatch accuracy: 77.3%\n",
      "Validation accuracy: 83.0%\n",
      "Minibatch loss at step 700: 16.960430\n",
      "Minibatch accuracy: 68.8%\n",
      "Validation accuracy: 84.3%\n",
      "Minibatch loss at step 800: 10.646368\n",
      "Reducing learning rate to: 0.0625%\n",
      "Minibatch accuracy: 82.8%\n",
      "Validation accuracy: 84.2%\n",
      "Minibatch loss at step 900: 19.262796\n",
      "Minibatch accuracy: 75.0%\n",
      "Validation accuracy: 84.6%\n",
      "Minibatch loss at step 1000: 10.205822\n",
      "Reducing learning rate to: 0.0312%\n",
      "Minibatch accuracy: 80.5%\n",
      "Validation accuracy: 84.4%\n",
      "Minibatch loss at step 1100: 13.495640\n",
      "Minibatch accuracy: 75.0%\n",
      "Validation accuracy: 84.8%\n",
      "Minibatch loss at step 1200: 22.458334\n",
      "Minibatch accuracy: 75.0%\n",
      "Validation accuracy: 85.2%\n",
      "Minibatch loss at step 1300: 15.640331\n",
      "Reducing learning rate to: 0.0156%\n",
      "Minibatch accuracy: 75.0%\n",
      "Validation accuracy: 84.9%\n",
      "Minibatch loss at step 1400: 9.390972\n",
      "Minibatch accuracy: 80.5%\n",
      "Validation accuracy: 85.2%\n",
      "Minibatch loss at step 1500: 6.079001\n",
      "Reducing learning rate to: 0.0078%\n",
      "Minibatch accuracy: 87.5%\n",
      "Validation accuracy: 85.0%\n",
      "Minibatch loss at step 1600: 10.981482\n",
      "Minibatch accuracy: 80.5%\n",
      "Validation accuracy: 85.1%\n",
      "Minibatch loss at step 1700: 7.973282\n",
      "Minibatch accuracy: 82.0%\n",
      "Validation accuracy: 85.2%\n",
      "Minibatch loss at step 1800: 8.303169\n",
      "Minibatch accuracy: 82.0%\n",
      "Validation accuracy: 85.2%\n",
      "Minibatch loss at step 1900: 5.668241\n",
      "Reducing learning rate to: 0.0039%\n",
      "Minibatch accuracy: 86.7%\n",
      "Validation accuracy: 85.2%\n",
      "Minibatch loss at step 2000: 8.842079\n",
      "Minibatch accuracy: 82.0%\n",
      "Validation accuracy: 85.3%\n",
      "Minibatch loss at step 2100: 9.718230\n",
      "Reducing learning rate to: 0.0020%\n",
      "Minibatch accuracy: 81.2%\n",
      "Validation accuracy: 85.3%\n",
      "Minibatch loss at step 2200: 6.866014\n",
      "Minibatch accuracy: 83.6%\n",
      "Validation accuracy: 85.3%\n",
      "Minibatch loss at step 2300: 16.125521\n",
      "Reducing learning rate to: 0.0010%\n",
      "Minibatch accuracy: 75.0%\n",
      "Validation accuracy: 85.3%\n",
      "Minibatch loss at step 2400: 19.240374\n",
      "Reducing learning rate to: 0.0005%\n",
      "Minibatch accuracy: 71.9%\n",
      "Validation accuracy: 85.2%\n",
      "Minibatch loss at step 2500: 8.890013\n",
      "Minibatch accuracy: 83.6%\n",
      "Validation accuracy: 85.2%\n",
      "Minibatch loss at step 2600: 5.808134\n",
      "Reducing learning rate to: 0.0002%\n",
      "Minibatch accuracy: 77.3%\n",
      "Validation accuracy: 85.2%\n",
      "Minibatch loss at step 2700: 8.768087\n",
      "Minibatch accuracy: 82.8%\n",
      "Validation accuracy: 85.2%\n",
      "Minibatch loss at step 2800: 4.955116\n",
      "Minibatch accuracy: 82.8%\n",
      "Validation accuracy: 85.2%\n",
      "Minibatch loss at step 2900: 9.500556\n",
      "Minibatch accuracy: 82.0%\n",
      "Validation accuracy: 85.3%\n",
      "Minibatch loss at step 3000: 7.623838\n",
      "Minibatch accuracy: 78.9%\n",
      "Validation accuracy: 85.3%\n",
      "Test accuracy: 91.5%\n"
     ]
    }
   ],
   "source": [
    "num_steps = 3001\n",
    "keep_prob_dropout = 0.55\n",
    "learning_rate = .5\n",
    "accuracy_validation_before = 0\n",
    "\n",
    "\n",
    "with tf.Session(graph=graph) as session:\n",
    "  tf.initialize_all_variables().run()\n",
    "  print(\"Initialized\")\n",
    "  for step in range(num_steps):\n",
    "    # Pick an offset within the training data, which has been randomized.\n",
    "    indexes = np.random.choice(train_labels.shape[0], batch_size)\n",
    "    # Generate a minibatch.\n",
    "    batch_data = train_dataset[indexes, :]\n",
    "    batch_labels = train_labels[indexes, :]\n",
    "    # Prepare a dictionary telling the session where to feed the minibatch.\n",
    "    # The key of the dictionary is the placeholder node of the graph to be fed,\n",
    "    # and the value is the numpy array to feed to it.\n",
    "    feed_dict = {tf_train_dataset : batch_data, tf_train_labels : batch_labels,tf_keep_prob_dropout : keep_prob_dropout,tf_learning_rate: learning_rate}\n",
    "    _, l, predictions = session.run(\n",
    "      [optimizer, loss, train_prediction], feed_dict=feed_dict)\n",
    "    if (step % 100 == 0):\n",
    "      print(\"Minibatch loss at step %d: %f\" % (step, l))\n",
    "      current_accuracy = accuracy(\n",
    "        valid_prediction.eval(), valid_labels)\n",
    "      if (current_accuracy < accuracy_validation_before):\n",
    "        learning_rate*=.5\n",
    "        print(\"Reducing learning rate to: %.4f%%\" %learning_rate)\n",
    "      print(\"Minibatch accuracy: %.1f%%\" % accuracy(predictions, batch_labels))\n",
    "      accuracy_validation_before = current_accuracy\n",
    "      print(\"Validation accuracy: %.1f%%\" % current_accuracy)\n",
    "  print(\"Test accuracy: %.1f%%\" % accuracy(test_prediction.eval(), test_labels))"
   ]
  },
  {
   "cell_type": "code",
   "execution_count": null,
   "metadata": {
    "collapsed": true
   },
   "outputs": [],
   "source": []
  }
 ],
 "metadata": {
  "colab": {
   "default_view": {},
   "name": "3_regularization.ipynb",
   "provenance": [],
   "version": "0.3.2",
   "views": {}
  },
  "kernelspec": {
   "display_name": "Python 3",
   "language": "python",
   "name": "python3"
  },
  "language_info": {
   "codemirror_mode": {
    "name": "ipython",
    "version": 3
   },
   "file_extension": ".py",
   "mimetype": "text/x-python",
   "name": "python",
   "nbconvert_exporter": "python",
   "pygments_lexer": "ipython3",
   "version": "3.4.3"
  }
 },
 "nbformat": 4,
 "nbformat_minor": 0
}
